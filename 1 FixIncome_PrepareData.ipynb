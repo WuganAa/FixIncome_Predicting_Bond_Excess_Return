{
 "cells": [
  {
   "cell_type": "markdown",
   "metadata": {},
   "source": [
    "# 读取数据"
   ]
  },
  {
   "cell_type": "code",
   "execution_count": 2,
   "metadata": {},
   "outputs": [],
   "source": [
    "import pandas as pd\n",
    "import numpy as np\n",
    "import os\n",
    "import json"
   ]
  },
  {
   "cell_type": "code",
   "execution_count": 3,
   "metadata": {},
   "outputs": [],
   "source": [
    "datapath = \"./data\"\n",
    "rawpath = \"./data/raw\""
   ]
  },
  {
   "cell_type": "markdown",
   "metadata": {},
   "source": [
    "## For AmihudLiquidity"
   ]
  },
  {
   "cell_type": "code",
   "execution_count": 103,
   "metadata": {},
   "outputs": [],
   "source": [
    "# df = pd.read_csv(os.path.join(rawpath, \"AmihudLiquidity_1950-2018_monthly.csv\"))\n",
    "# df = df.set_index(\"Date\")\n",
    "# df.index = pd.to_datetime(df.index)\n",
    "# df = df.resample(\"1M\").last()\n",
    "# df.to_csv(os.path.join(datapath, \"AmihudLiquidity.csv\"))"
   ]
  },
  {
   "cell_type": "code",
   "execution_count": 104,
   "metadata": {},
   "outputs": [],
   "source": [
    "AmLiqFactor = pd.read_csv(os.path.join(datapath, \"AmihudLiquidity.csv\"))\n",
    "AmLiqFactor = AmLiqFactor.set_index(\"Date\")\n",
    "AmLiqFactor.index = pd.to_datetime(AmLiqFactor.index)"
   ]
  },
  {
   "cell_type": "code",
   "execution_count": 105,
   "metadata": {},
   "outputs": [
    {
     "data": {
      "text/plain": [
       "DatetimeIndex(['1950-02-28', '1950-03-31', '1950-04-30', '1950-05-31',\n",
       "               '1950-06-30', '1950-07-31', '1950-08-31', '1950-09-30',\n",
       "               '1950-10-31', '1950-11-30',\n",
       "               ...\n",
       "               '2018-02-28', '2018-03-31', '2018-04-30', '2018-05-31',\n",
       "               '2018-06-30', '2018-07-31', '2018-08-31', '2018-09-30',\n",
       "               '2018-10-31', '2018-11-30'],\n",
       "              dtype='datetime64[ns]', name='Date', length=826, freq=None)"
      ]
     },
     "execution_count": 105,
     "metadata": {},
     "output_type": "execute_result"
    }
   ],
   "source": [
    "AmLiqFactor.index"
   ]
  },
  {
   "cell_type": "markdown",
   "metadata": {},
   "source": [
    "## For Pastor and Stambaugh Liquidity"
   ]
  },
  {
   "cell_type": "code",
   "execution_count": 106,
   "metadata": {},
   "outputs": [],
   "source": [
    "# df = pd.read_csv(os.path.join(rawpath, \"PastorandStambaughliq_data_1962_2014.txt\"), header=12, sep = \"\\t\")\n",
    "# df = df.dropna()\n",
    "# df.columns = [\"Date\", \"AggLiq\", \"InnovLiq\", \"TradedLiq\"]\n",
    "# df['Date'] = df['Date'].astype(np.int).astype(np.str) + \"01\"\n",
    "# df = df.set_index(\"Date\")\n",
    "# df.index = pd.to_datetime(df.index)\n",
    "# df = df.loc[df['TradedLiq'] != -99]\n",
    "# df = df.resample(\"1M\").last()\n",
    "# df.to_csv(os.path.join(datapath, \"PastorandStambaughLiq.csv\"))"
   ]
  },
  {
   "cell_type": "code",
   "execution_count": 107,
   "metadata": {},
   "outputs": [],
   "source": [
    "PSLiqFactor = pd.read_csv(os.path.join(datapath, \"PastorandStambaughLiq.csv\"))\n",
    "PSLiqFactor = PSLiqFactor.set_index(\"Date\")\n",
    "PSLiqFactor.index = pd.to_datetime(PSLiqFactor.index)"
   ]
  },
  {
   "cell_type": "code",
   "execution_count": 108,
   "metadata": {},
   "outputs": [
    {
     "data": {
      "text/plain": [
       "DatetimeIndex(['1968-01-31', '1968-02-29', '1968-03-31', '1968-04-30',\n",
       "               '1968-05-31', '1968-06-30', '1968-07-31', '1968-08-31',\n",
       "               '1968-09-30', '1968-10-31',\n",
       "               ...\n",
       "               '2014-03-31', '2014-04-30', '2014-05-31', '2014-06-30',\n",
       "               '2014-07-31', '2014-08-31', '2014-09-30', '2014-10-31',\n",
       "               '2014-11-30', '2014-12-31'],\n",
       "              dtype='datetime64[ns]', name='Date', length=564, freq=None)"
      ]
     },
     "execution_count": 108,
     "metadata": {},
     "output_type": "execute_result"
    }
   ],
   "source": [
    "PSLiqFactor.index"
   ]
  },
  {
   "cell_type": "markdown",
   "metadata": {},
   "source": [
    "## For CompositeLeadingIndicators"
   ]
  },
  {
   "cell_type": "code",
   "execution_count": 109,
   "metadata": {},
   "outputs": [],
   "source": [
    "# df = pd.read_csv(os.path.join(rawpath, \"CompositeLeadingIndicators_8CountryData.csv\"))\n",
    "# df = df.drop(\"Unnamed: 0\", axis=1)\n",
    "# df.columns = [\"country\", \"CLI\", \"Date\"]\n",
    "# dfUSA = df.loc[df['country'] == \"USA\"].drop(\"country\", axis=1).set_index(\"Date\")\n",
    "# dfUSA.index = pd.to_datetime(dfUSA.index)\n",
    "# dfUSA = dfUSA.resample(\"1M\").last()\n",
    "# dfUSA = dfUSA.iloc[160:-40]\n",
    "# dfUSA.to_csv(os.path.join(datapath, \"CompositeLeadingIndicators_USA.csv\"))\n",
    "\n",
    "# df = df.set_index([\"Date\", \"country\"])\n",
    "# df = df.reindex(pd.MultiIndex.from_product([df.index.levels[0][160: -40], df.index.levels[1]], names=['Date', 'country']))\n",
    "# df.index = pd.MultiIndex.from_product([dfUSA.index, df.index.levels[1]], names=['Date', 'country'])\n",
    "# df = df.unstack()\n",
    "# df.columns = df.columns.levels[1]\n",
    "# df.to_csv(os.path.join(datapath, \"CompositeLeadingIndicators_8CountryData.csv\"))"
   ]
  },
  {
   "cell_type": "code",
   "execution_count": 110,
   "metadata": {},
   "outputs": [],
   "source": [
    "CLI_USAFactor = pd.read_csv(os.path.join(datapath, \"CompositeLeadingIndicators_USA.csv\"))\n",
    "CLI_USAFactor = CLI_USAFactor.set_index(\"Date\")\n",
    "CLI_USAFactor.index = pd.to_datetime(CLI_USAFactor.index)"
   ]
  },
  {
   "cell_type": "code",
   "execution_count": 111,
   "metadata": {},
   "outputs": [
    {
     "data": {
      "text/plain": [
       "DatetimeIndex(['1968-05-31', '1968-06-30', '1968-07-31', '1968-08-31',\n",
       "               '1968-09-30', '1968-10-31', '1968-11-30', '1968-12-31',\n",
       "               '1969-01-31', '1969-02-28',\n",
       "               ...\n",
       "               '2014-07-31', '2014-08-31', '2014-09-30', '2014-10-31',\n",
       "               '2014-11-30', '2014-12-31', '2015-01-31', '2015-02-28',\n",
       "               '2015-03-31', '2015-04-30'],\n",
       "              dtype='datetime64[ns]', name='Date', length=564, freq=None)"
      ]
     },
     "execution_count": 111,
     "metadata": {},
     "output_type": "execute_result"
    }
   ],
   "source": [
    "CLI_USAFactor.index"
   ]
  },
  {
   "cell_type": "code",
   "execution_count": 112,
   "metadata": {},
   "outputs": [],
   "source": [
    "CLI_allFactor = pd.read_csv(os.path.join(datapath, \"CompositeLeadingIndicators_8CountryData.csv\"))\n",
    "CLI_allFactor['Date'] = pd.to_datetime(CLI_allFactor['Date'] )\n",
    "CLI_allFactor = CLI_allFactor.set_index([\"Date\"])"
   ]
  },
  {
   "cell_type": "code",
   "execution_count": 113,
   "metadata": {},
   "outputs": [
    {
     "data": {
      "text/plain": [
       "DatetimeIndex(['1968-05-31', '1968-06-30', '1968-07-31', '1968-08-31',\n",
       "               '1968-09-30', '1968-10-31', '1968-11-30', '1968-12-31',\n",
       "               '1969-01-31', '1969-02-28',\n",
       "               ...\n",
       "               '2014-07-31', '2014-08-31', '2014-09-30', '2014-10-31',\n",
       "               '2014-11-30', '2014-12-31', '2015-01-31', '2015-02-28',\n",
       "               '2015-03-31', '2015-04-30'],\n",
       "              dtype='datetime64[ns]', name='Date', length=564, freq=None)"
      ]
     },
     "execution_count": 113,
     "metadata": {},
     "output_type": "execute_result"
    }
   ],
   "source": [
    "CLI_allFactor.index"
   ]
  },
  {
   "cell_type": "code",
   "execution_count": 114,
   "metadata": {},
   "outputs": [
    {
     "data": {
      "text/plain": [
       "Index(['AUS', 'CAN', 'DEU', 'FRA', 'GBR', 'ITA', 'JPN', 'USA'], dtype='object')"
      ]
     },
     "execution_count": 114,
     "metadata": {},
     "output_type": "execute_result"
    }
   ],
   "source": [
    "CLI_allFactor.columns"
   ]
  },
  {
   "cell_type": "markdown",
   "metadata": {},
   "source": [
    "## For FamaFrench"
   ]
  },
  {
   "cell_type": "code",
   "execution_count": 115,
   "metadata": {},
   "outputs": [],
   "source": [
    "# df = pd.read_csv(os.path.join(rawpath, \"F-F_Research_Data_5_Factors_2x3.CSV\"), header=2, skipfooter = 96)\n",
    "# df = df.rename({\"Unnamed: 0\": \"Date\"}, axis=1)\n",
    "# df['Date'] = df['Date'].astype(np.str) + \"01\"\n",
    "# df = df.set_index(\"Date\")\n",
    "# df.index = pd.to_datetime(df.index)\n",
    "# df = df.resample(\"1M\").last()\n",
    "# df.to_csv(os.path.join(datapath, \"FamaFrench_5factors.csv\"))"
   ]
  },
  {
   "cell_type": "code",
   "execution_count": 116,
   "metadata": {},
   "outputs": [],
   "source": [
    "FF5Factor = pd.read_csv(os.path.join(datapath, \"FamaFrench_5factors.csv\"))\n",
    "FF5Factor = FF5Factor.set_index(\"Date\")\n",
    "FF5Factor.index = pd.to_datetime(FF5Factor.index)"
   ]
  },
  {
   "cell_type": "code",
   "execution_count": 117,
   "metadata": {},
   "outputs": [
    {
     "data": {
      "text/plain": [
       "DatetimeIndex(['1963-07-31', '1963-08-31', '1963-09-30', '1963-10-31',\n",
       "               '1963-11-30', '1963-12-31', '1964-01-31', '1964-02-29',\n",
       "               '1964-03-31', '1964-04-30',\n",
       "               ...\n",
       "               '2014-09-30', '2014-10-31', '2014-11-30', '2014-12-31',\n",
       "               '2015-01-31', '2015-02-28', '2015-03-31', '2015-04-30',\n",
       "               '2015-05-31', '2015-06-30'],\n",
       "              dtype='datetime64[ns]', name='Date', length=624, freq=None)"
      ]
     },
     "execution_count": 117,
     "metadata": {},
     "output_type": "execute_result"
    }
   ],
   "source": [
    "FF5Factor.index"
   ]
  },
  {
   "cell_type": "code",
   "execution_count": 118,
   "metadata": {},
   "outputs": [
    {
     "data": {
      "text/plain": [
       "Index(['Mkt-RF', 'SMB', 'HML', 'RMW', 'CMA', 'RF'], dtype='object')"
      ]
     },
     "execution_count": 118,
     "metadata": {},
     "output_type": "execute_result"
    }
   ],
   "source": [
    "FF5Factor.columns"
   ]
  },
  {
   "cell_type": "markdown",
   "metadata": {},
   "source": [
    "## For LutzSENT_BwSENT Sentiment"
   ]
  },
  {
   "cell_type": "code",
   "execution_count": 119,
   "metadata": {},
   "outputs": [],
   "source": [
    "# df = pd.read_csv(os.path.join(rawpath, \"LutzSENT_BwSENT.csv\"))\n",
    "# df = df.dropna()\n",
    "# df['Date'] = df['Date'].astype(np.str) + \"01\"\n",
    "# df = df.set_index(\"Date\")\n",
    "# df.index = pd.to_datetime(df.index)\n",
    "# df = df.resample(\"1M\").last()\n",
    "# df.to_csv(os.path.join(datapath, \"LutzSENT_BwSENT.csv\"))"
   ]
  },
  {
   "cell_type": "code",
   "execution_count": 120,
   "metadata": {},
   "outputs": [],
   "source": [
    "SentiFactor = pd.read_csv(os.path.join(datapath, \"LutzSENT_BwSENT.csv\"))\n",
    "SentiFactor = SentiFactor.set_index(\"Date\")\n",
    "SentiFactor.index = pd.to_datetime(SentiFactor.index)"
   ]
  },
  {
   "cell_type": "code",
   "execution_count": 121,
   "metadata": {},
   "outputs": [
    {
     "data": {
      "text/plain": [
       "DatetimeIndex(['1965-07-31', '1965-08-31', '1965-09-30', '1965-10-31',\n",
       "               '1965-11-30', '1965-12-31', '1966-01-31', '1966-02-28',\n",
       "               '1966-03-31', '1966-04-30',\n",
       "               ...\n",
       "               '2007-03-31', '2007-04-30', '2007-05-31', '2007-06-30',\n",
       "               '2007-07-31', '2007-08-31', '2007-09-30', '2007-10-31',\n",
       "               '2007-11-30', '2007-12-31'],\n",
       "              dtype='datetime64[ns]', name='Date', length=510, freq=None)"
      ]
     },
     "execution_count": 121,
     "metadata": {},
     "output_type": "execute_result"
    }
   ],
   "source": [
    "SentiFactor.index"
   ]
  },
  {
   "cell_type": "code",
   "execution_count": 122,
   "metadata": {},
   "outputs": [
    {
     "data": {
      "text/plain": [
       "Index(['LutzSent', 'BWsent'], dtype='object')"
      ]
     },
     "execution_count": 122,
     "metadata": {},
     "output_type": "execute_result"
    }
   ],
   "source": [
    "SentiFactor.columns"
   ]
  },
  {
   "cell_type": "markdown",
   "metadata": {},
   "source": [
    "## For BwSENT  Sentiment"
   ]
  },
  {
   "cell_type": "code",
   "execution_count": 123,
   "metadata": {},
   "outputs": [],
   "source": [
    "# df = pd.read_excel(os.path.join(rawpath, \"BW_Investor_Sentiment_Data_20160331_POST.xlsx\"))\n",
    "# df = df.replace(\".\", np.nan).dropna()\n",
    "# df.columns = ['Date', 'BWSENT^', 'BWSENT']\n",
    "# df['Date'] = df['Date'].astype(np.str) + \"01\"\n",
    "# df = df.set_index(\"Date\")\n",
    "# df.index = pd.to_datetime(df.index)\n",
    "# df = df.resample(\"1M\").last()\n",
    "# df.to_csv(os.path.join(datapath, \"BW_Investor_Sentiment.csv\"))"
   ]
  },
  {
   "cell_type": "code",
   "execution_count": 124,
   "metadata": {},
   "outputs": [],
   "source": [
    "BWFactor = pd.read_csv(os.path.join(datapath, \"BW_Investor_Sentiment.csv\"))\n",
    "BWFactor = BWFactor.set_index(\"Date\")\n",
    "BWFactor.index = pd.to_datetime(BWFactor.index)"
   ]
  },
  {
   "cell_type": "code",
   "execution_count": 125,
   "metadata": {},
   "outputs": [
    {
     "data": {
      "text/plain": [
       "DatetimeIndex(['1965-07-31', '1965-08-31', '1965-09-30', '1965-10-31',\n",
       "               '1965-11-30', '1965-12-31', '1966-01-31', '1966-02-28',\n",
       "               '1966-03-31', '1966-04-30',\n",
       "               ...\n",
       "               '2014-12-31', '2015-01-31', '2015-02-28', '2015-03-31',\n",
       "               '2015-04-30', '2015-05-31', '2015-06-30', '2015-07-31',\n",
       "               '2015-08-31', '2015-09-30'],\n",
       "              dtype='datetime64[ns]', name='Date', length=603, freq=None)"
      ]
     },
     "execution_count": 125,
     "metadata": {},
     "output_type": "execute_result"
    }
   ],
   "source": [
    "BWFactor.index"
   ]
  },
  {
   "cell_type": "code",
   "execution_count": 126,
   "metadata": {},
   "outputs": [
    {
     "data": {
      "text/plain": [
       "Index(['BWSENT^', 'BWSENT'], dtype='object')"
      ]
     },
     "execution_count": 126,
     "metadata": {},
     "output_type": "execute_result"
    }
   ],
   "source": [
    "BWFactor.columns"
   ]
  },
  {
   "cell_type": "markdown",
   "metadata": {},
   "source": [
    "## For BondRiskPremiaRealizedJumpRisk"
   ]
  },
  {
   "cell_type": "code",
   "execution_count": 127,
   "metadata": {},
   "outputs": [],
   "source": [
    "# df = pd.read_csv(os.path.join(rawpath, \"BondRiskPremiaRealizedJumpRisk.csv\"))\n",
    "# df = df.set_index(\"Date\")\n",
    "# df.index = pd.to_datetime(df.index)\n",
    "# df = df.resample(\"1M\").last()\n",
    "# df.to_csv(os.path.join(datapath, \"BondRiskPremiaRealizedJumpRisk.csv\"))"
   ]
  },
  {
   "cell_type": "code",
   "execution_count": 128,
   "metadata": {},
   "outputs": [],
   "source": [
    "JumpRiskFactor = pd.read_csv(os.path.join(datapath, \"BondRiskPremiaRealizedJumpRisk.csv\"))\n",
    "JumpRiskFactor = JumpRiskFactor.set_index(\"Date\")\n",
    "JumpRiskFactor.index = pd.to_datetime(JumpRiskFactor.index)"
   ]
  },
  {
   "cell_type": "code",
   "execution_count": 129,
   "metadata": {},
   "outputs": [
    {
     "data": {
      "text/plain": [
       "DatetimeIndex(['1980-01-31', '1980-02-29', '1980-03-31', '1980-04-30',\n",
       "               '1980-05-31', '1980-06-30', '1980-07-31', '1980-08-31',\n",
       "               '1980-09-30', '1980-10-31',\n",
       "               ...\n",
       "               '2009-02-28', '2009-03-31', '2009-04-30', '2009-05-31',\n",
       "               '2009-06-30', '2009-07-31', '2009-08-31', '2009-09-30',\n",
       "               '2009-10-31', '2009-11-30'],\n",
       "              dtype='datetime64[ns]', name='Date', length=359, freq=None)"
      ]
     },
     "execution_count": 129,
     "metadata": {},
     "output_type": "execute_result"
    }
   ],
   "source": [
    "JumpRiskFactor.index"
   ]
  },
  {
   "cell_type": "markdown",
   "metadata": {},
   "source": [
    "## For VIX and VOX"
   ]
  },
  {
   "cell_type": "code",
   "execution_count": 130,
   "metadata": {},
   "outputs": [],
   "source": [
    "# df = pd.read_csv(os.path.join(rawpath, \"vix_1990-2013_day.csv\"))\n",
    "# df = df[['Date', 'VIX Close']]\n",
    "# df = df.set_index(\"Date\")\n",
    "# df.index = pd.to_datetime(df.index)\n",
    "# df.columns = ['vix']\n",
    "# df = df.resample(\"1M\").last()\n",
    "# df.to_csv(os.path.join(datapath, \"vix.csv\"))"
   ]
  },
  {
   "cell_type": "code",
   "execution_count": 131,
   "metadata": {},
   "outputs": [],
   "source": [
    "# df = pd.read_csv(os.path.join(rawpath, \"vxo_1986-2013_day.csv\"))\n",
    "# df = df[['Date', 'Close']]\n",
    "# df = df.set_index(\"Date\").dropna()\n",
    "# df.index = pd.to_datetime(df.index)\n",
    "# df.columns = ['vxo']\n",
    "# df = df.resample(\"1M\").last()\n",
    "# df.to_csv(os.path.join(datapath, \"vxo.csv\"))"
   ]
  },
  {
   "cell_type": "code",
   "execution_count": 132,
   "metadata": {},
   "outputs": [],
   "source": [
    "vixFactor = pd.read_csv(os.path.join(datapath, \"vix.csv\"))\n",
    "vixFactor = vixFactor.set_index(\"Date\")\n",
    "vixFactor.index = pd.to_datetime(vixFactor.index)"
   ]
  },
  {
   "cell_type": "code",
   "execution_count": 133,
   "metadata": {},
   "outputs": [
    {
     "data": {
      "text/plain": [
       "DatetimeIndex(['1990-01-31', '1990-02-28', '1990-03-31', '1990-04-30',\n",
       "               '1990-05-31', '1990-06-30', '1990-07-31', '1990-08-31',\n",
       "               '1990-09-30', '1990-10-31',\n",
       "               ...\n",
       "               '2018-02-28', '2018-03-31', '2018-04-30', '2018-05-31',\n",
       "               '2018-06-30', '2018-07-31', '2018-08-31', '2018-09-30',\n",
       "               '2018-10-31', '2018-11-30'],\n",
       "              dtype='datetime64[ns]', name='Date', length=347, freq=None)"
      ]
     },
     "execution_count": 133,
     "metadata": {},
     "output_type": "execute_result"
    }
   ],
   "source": [
    "vixFactor.index"
   ]
  },
  {
   "cell_type": "code",
   "execution_count": 134,
   "metadata": {},
   "outputs": [],
   "source": [
    "vxoFactor = pd.read_csv(os.path.join(datapath, \"vxo.csv\"))\n",
    "vxoFactor = vxoFactor.set_index(\"Date\")\n",
    "vxoFactor.index = pd.to_datetime(vxoFactor.index)"
   ]
  },
  {
   "cell_type": "code",
   "execution_count": 135,
   "metadata": {},
   "outputs": [
    {
     "data": {
      "text/plain": [
       "DatetimeIndex(['1986-01-31', '1986-02-28', '1986-03-31', '1986-04-30',\n",
       "               '1986-05-31', '1986-06-30', '1986-07-31', '1986-08-31',\n",
       "               '1986-09-30', '1986-10-31',\n",
       "               ...\n",
       "               '2018-02-28', '2018-03-31', '2018-04-30', '2018-05-31',\n",
       "               '2018-06-30', '2018-07-31', '2018-08-31', '2018-09-30',\n",
       "               '2018-10-31', '2018-11-30'],\n",
       "              dtype='datetime64[ns]', name='Date', length=395, freq=None)"
      ]
     },
     "execution_count": 135,
     "metadata": {},
     "output_type": "execute_result"
    }
   ],
   "source": [
    "vxoFactor.index"
   ]
  },
  {
   "cell_type": "markdown",
   "metadata": {},
   "source": [
    "## For Technical of DJIA"
   ]
  },
  {
   "cell_type": "code",
   "execution_count": 136,
   "metadata": {},
   "outputs": [],
   "source": [
    "# df = pd.read_csv(os.path.join(rawpath, \"factors_DJIA_1950-2009_day.csv\"))\n",
    "# df = df.set_index(\"Date\").dropna()\n",
    "# df.index = pd.to_datetime(df.index)\n",
    "# unuse = list(df.columns[np.sum(df==0) > 0.8 * df.shape[0]])\n",
    "# df = df.drop(unuse, axis=1)\n",
    "# df = df.resample(\"1M\").last()\n",
    "# df.to_csv(os.path.join(datapath, \"technicalDJIA.csv\"))"
   ]
  },
  {
   "cell_type": "code",
   "execution_count": 137,
   "metadata": {},
   "outputs": [],
   "source": [
    "# classification = pd.read_excel(os.path.join(rawpath, \"factors_classification.xlsx\"), header=0)\n",
    "# print(classification.columns)\n",
    "\n",
    "# techclass = {}\n",
    "# i = 0\n",
    "# for column in classification.columns:\n",
    "#     techclass[\"class\" + str(i)] = list(set(classification[column].dropna()).intersection(set(techFactor.columns)))\n",
    "#     i += 1\n",
    "# print(techclass.keys())\n",
    "\n",
    "# with open(os.path.join(datapath, \"class_for_tech.json\"), \"w\") as file:\n",
    "#     json.dump(techclass, file)"
   ]
  },
  {
   "cell_type": "code",
   "execution_count": 138,
   "metadata": {},
   "outputs": [],
   "source": [
    "techFactor = pd.read_csv(os.path.join(datapath, \"technicalDJIA.csv\"))\n",
    "techFactor = techFactor.set_index(\"Date\")\n",
    "techFactor.index = pd.to_datetime(techFactor.index)"
   ]
  },
  {
   "cell_type": "code",
   "execution_count": 139,
   "metadata": {},
   "outputs": [
    {
     "data": {
      "text/plain": [
       "DatetimeIndex(['1950-01-31', '1950-02-28', '1950-03-31', '1950-04-30',\n",
       "               '1950-05-31', '1950-06-30', '1950-07-31', '1950-08-31',\n",
       "               '1950-09-30', '1950-10-31',\n",
       "               ...\n",
       "               '2009-01-31', '2009-02-28', '2009-03-31', '2009-04-30',\n",
       "               '2009-05-31', '2009-06-30', '2009-07-31', '2009-08-31',\n",
       "               '2009-09-30', '2009-10-31'],\n",
       "              dtype='datetime64[ns]', name='Date', length=718, freq=None)"
      ]
     },
     "execution_count": 139,
     "metadata": {},
     "output_type": "execute_result"
    }
   ],
   "source": [
    "techFactor.index"
   ]
  },
  {
   "cell_type": "code",
   "execution_count": 140,
   "metadata": {},
   "outputs": [
    {
     "data": {
      "text/plain": [
       "Index(['均线型', '超买超卖型', '能量型', '趋势型', '动量', '成交量动量', '情绪类', '波动类', '周期类',\n",
       "       '统计类'],\n",
       "      dtype='object')"
      ]
     },
     "execution_count": 140,
     "metadata": {},
     "output_type": "execute_result"
    }
   ],
   "source": [
    "classification = pd.read_excel(os.path.join(rawpath, \"factors_classification.xlsx\"), header=0)\n",
    "classification.columns"
   ]
  },
  {
   "cell_type": "code",
   "execution_count": 141,
   "metadata": {},
   "outputs": [],
   "source": [
    "with open(os.path.join(datapath, \"class_for_tech.json\"), \"r\") as file:\n",
    "    techclass = json.load(file)"
   ]
  },
  {
   "cell_type": "code",
   "execution_count": 142,
   "metadata": {},
   "outputs": [
    {
     "data": {
      "text/plain": [
       "dict_keys(['class0', 'class1', 'class2', 'class3', 'class4', 'class5', 'class6', 'class7', 'class8', 'class9'])"
      ]
     },
     "execution_count": 142,
     "metadata": {},
     "output_type": "execute_result"
    }
   ],
   "source": [
    "techclass.keys()"
   ]
  },
  {
   "cell_type": "code",
   "execution_count": null,
   "metadata": {},
   "outputs": [],
   "source": []
  },
  {
   "cell_type": "code",
   "execution_count": null,
   "metadata": {},
   "outputs": [],
   "source": []
  },
  {
   "cell_type": "markdown",
   "metadata": {},
   "source": [
    "## For CP"
   ]
  },
  {
   "cell_type": "code",
   "execution_count": 143,
   "metadata": {},
   "outputs": [],
   "source": [
    "# df = pd.read_csv(os.path.join(rawpath, \"CP.csv\"))\n",
    "# df.columns = ['Date', 'CP']\n",
    "# df['Date'] = df['Date'] + \"-01\"\n",
    "# df = df.set_index(\"Date\").dropna()\n",
    "# df.index = pd.to_datetime(df.index)\n",
    "# df = df.resample(\"1M\").last()\n",
    "# df.to_csv(os.path.join(datapath, \"CP_USA.csv\"))"
   ]
  },
  {
   "cell_type": "code",
   "execution_count": 144,
   "metadata": {},
   "outputs": [],
   "source": [
    "CPUSAFactor = pd.read_csv(os.path.join(datapath, \"CP_USA.csv\"))\n",
    "CPUSAFactor = CPUSAFactor.set_index(\"Date\")\n",
    "CPUSAFactor.index = pd.to_datetime(CPUSAFactor.index)"
   ]
  },
  {
   "cell_type": "code",
   "execution_count": 145,
   "metadata": {
    "scrolled": false
   },
   "outputs": [
    {
     "data": {
      "text/plain": [
       "DatetimeIndex(['1953-01-31', '1953-02-28', '1953-03-31', '1953-04-30',\n",
       "               '1953-05-31', '1953-06-30', '1953-07-31', '1953-08-31',\n",
       "               '1953-09-30', '1953-10-31',\n",
       "               ...\n",
       "               '2013-03-31', '2013-04-30', '2013-05-31', '2013-06-30',\n",
       "               '2013-07-31', '2013-08-31', '2013-09-30', '2013-10-31',\n",
       "               '2013-11-30', '2013-12-31'],\n",
       "              dtype='datetime64[ns]', name='Date', length=732, freq=None)"
      ]
     },
     "execution_count": 145,
     "metadata": {},
     "output_type": "execute_result"
    }
   ],
   "source": [
    "CPUSAFactor.index"
   ]
  },
  {
   "cell_type": "markdown",
   "metadata": {},
   "source": [
    "## For log_excess_return"
   ]
  },
  {
   "cell_type": "code",
   "execution_count": 146,
   "metadata": {},
   "outputs": [],
   "source": [
    "# df = pd.read_csv(os.path.join(rawpath, \"log_excess_return.csv\"))\n",
    "# df.columns = ['Date', 'yr2', 'yr3', 'yr4', 'yr5']\n",
    "# df['Date'] = df['Date'] + \"-01\"\n",
    "# df = df.set_index(\"Date\").dropna()\n",
    "# df.index = pd.to_datetime(df.index)\n",
    "# df = df.resample(\"1M\").last()\n",
    "# df = df.iloc[13:]\n",
    "# df.to_csv(os.path.join(datapath, \"log_excess_return.csv\"))"
   ]
  },
  {
   "cell_type": "code",
   "execution_count": 5,
   "metadata": {},
   "outputs": [],
   "source": [
    "# df = pd.read_csv(os.path.join(rawpath, \"log_excess_return_time.csv\"))\n",
    "# df.columns = ['Date', 'yr2', 'yr3', 'yr4', 'yr5']\n",
    "# # df['Date'] = df['Date'] + \"-01\"\n",
    "# df = df.set_index(\"Date\").dropna()\n",
    "# df.index = pd.to_datetime(df.index)\n",
    "# df = df.resample(\"1M\").last()\n",
    "# df = df.iloc[12:]\n",
    "# df.to_csv(os.path.join(datapath, \"log_excess_return_time.csv\"))"
   ]
  },
  {
   "cell_type": "code",
   "execution_count": 147,
   "metadata": {},
   "outputs": [],
   "source": [
    "LogExcessReturn = pd.read_csv(os.path.join(datapath, \"log_excess_return.csv\"))\n",
    "LogExcessReturn = LogExcessReturn.set_index(\"Date\")\n",
    "LogExcessReturn.index = pd.to_datetime(LogExcessReturn.index)"
   ]
  },
  {
   "cell_type": "code",
   "execution_count": 148,
   "metadata": {},
   "outputs": [
    {
     "data": {
      "text/plain": [
       "DatetimeIndex(['1954-02-28', '1954-03-31', '1954-04-30', '1954-05-31',\n",
       "               '1954-06-30', '1954-07-31', '1954-08-31', '1954-09-30',\n",
       "               '1954-10-31', '1954-11-30',\n",
       "               ...\n",
       "               '2013-03-31', '2013-04-30', '2013-05-31', '2013-06-30',\n",
       "               '2013-07-31', '2013-08-31', '2013-09-30', '2013-10-31',\n",
       "               '2013-11-30', '2013-12-31'],\n",
       "              dtype='datetime64[ns]', name='Date', length=719, freq=None)"
      ]
     },
     "execution_count": 148,
     "metadata": {},
     "output_type": "execute_result"
    }
   ],
   "source": [
    "LogExcessReturn.index"
   ]
  },
  {
   "cell_type": "code",
   "execution_count": 149,
   "metadata": {},
   "outputs": [
    {
     "data": {
      "text/plain": [
       "Index(['yr2', 'yr3', 'yr4', 'yr5'], dtype='object')"
      ]
     },
     "execution_count": 149,
     "metadata": {},
     "output_type": "execute_result"
    }
   ],
   "source": [
    "LogExcessReturn.columns"
   ]
  },
  {
   "cell_type": "markdown",
   "metadata": {},
   "source": [
    "## For Macro_raw_data of LN"
   ]
  },
  {
   "cell_type": "code",
   "execution_count": 150,
   "metadata": {},
   "outputs": [],
   "source": [
    "# def transform_macro(X, method):\n",
    "#     X = X.astype(np.double)\n",
    "#     if method == \"ln\":\n",
    "#         return np.log(X)\n",
    "#     elif method == \"dln\":\n",
    "#         return np.log(X).diff()\n",
    "#     elif method == \"d2ln\":\n",
    "#         return np.log(X).diff().diff()\n",
    "#     elif method == \"lv\":\n",
    "#         return X\n",
    "#     elif method == \"lv100\":\n",
    "#         return X/100\n",
    "#     elif method == \"dlv\":\n",
    "#         return X.diff()\n",
    "#     else:\n",
    "#         return X"
   ]
  },
  {
   "cell_type": "code",
   "execution_count": 151,
   "metadata": {},
   "outputs": [],
   "source": [
    "# macrodata = pd.read_excel(os.path.join(rawpath, \"macro_raw_data.xlsx\"), sheet_name=\"macrodata\", header=0)\n",
    "# macrodata['Date'] = macrodata['year'].astype(np.str) + macrodata['month'].apply(lambda x: \"%02d\" % x) + \"01\"\n",
    "# macrodata = macrodata.drop(['year', 'month'], axis=1)\n",
    "# macrodata = macrodata.set_index(\"Date\")\n",
    "# macrodata.index = pd.to_datetime(macrodata.index)\n",
    "# macrodata = macrodata.resample(\"1M\").last()\n",
    "\n",
    "# financialdata = pd.read_excel(os.path.join(rawpath, \"macro_raw_data.xlsx\"), sheet_name=\"financialdata\", header=0)\n",
    "# financialdata['Date'] = financialdata['year'].astype(np.str) + financialdata['month'].apply(lambda x: \"%02d\" % x) + \"01\"\n",
    "# financialdata = financialdata.drop(['year', 'month'], axis=1)\n",
    "# financialdata = financialdata.set_index(\"Date\")\n",
    "# financialdata.index = pd.to_datetime(financialdata.index)\n",
    "# financialdata = financialdata.resample(\"1M\").last()\n",
    "\n",
    "# df = pd.concat([macrodata, financialdata], axis=1)\n",
    "\n",
    "# with open(os.path.join(datapath, \"method_for_macro_raw_data.json\"), \"r\") as file:\n",
    "#     method_for_macro = json.load(file)\n",
    "    \n",
    "# dftrans = pd.DataFrame(index=df.index)\n",
    "# for _, keys in method_for_macro.items():\n",
    "#     for key, value in keys.items():\n",
    "#         dftrans[key] = transform_macro(df[key], value)\n",
    "        \n",
    "# dftrans = dftrans.iloc[2:].fillna(0)\n",
    "# dftrans.to_csv(os.path.join(datapath, \"macro_data.csv\"))\n",
    "# financialdata.to_csv(os.path.join(datapath, \"financial_data.csv\"))"
   ]
  },
  {
   "cell_type": "code",
   "execution_count": 152,
   "metadata": {},
   "outputs": [],
   "source": [
    "# df = pd.read_csv(os.path.join(rawpath, \"classificationoffinancial.txt\"), \"\\t\")\n",
    "# df = df.fillna(10000)\n",
    "\n",
    "# class_of_financial = {}\n",
    "# for i in range(df.shape[0]):\n",
    "#     if df.iloc[i, 1] == 10000:\n",
    "#         key = df.iloc[i, 0]\n",
    "#         class_of_financial[key] = []\n",
    "#     else:\n",
    "#         class_of_financial[key].append(df.iloc[i, 1])\n",
    "\n",
    "# with open(os.path.join(datapath, \"class_of_financial.json\"), \"w\") as file:\n",
    "#     json.dump(class_of_financial, file)"
   ]
  },
  {
   "cell_type": "code",
   "execution_count": 153,
   "metadata": {},
   "outputs": [],
   "source": [
    "macroFactor = pd.read_csv(os.path.join(datapath, \"macro_data.csv\"))\n",
    "macroFactor = macroFactor.set_index(\"Date\")\n",
    "macroFactor.index = pd.to_datetime(macroFactor.index)"
   ]
  },
  {
   "cell_type": "code",
   "execution_count": 154,
   "metadata": {},
   "outputs": [
    {
     "data": {
      "text/plain": [
       "DatetimeIndex(['1960-03-31', '1960-04-30', '1960-05-31', '1960-06-30',\n",
       "               '1960-07-31', '1960-08-31', '1960-09-30', '1960-10-31',\n",
       "               '1960-11-30', '1960-12-31',\n",
       "               ...\n",
       "               '2011-03-31', '2011-04-30', '2011-05-31', '2011-06-30',\n",
       "               '2011-07-31', '2011-08-31', '2011-09-30', '2011-10-31',\n",
       "               '2011-11-30', '2011-12-31'],\n",
       "              dtype='datetime64[ns]', name='Date', length=622, freq=None)"
      ]
     },
     "execution_count": 154,
     "metadata": {},
     "output_type": "execute_result"
    }
   ],
   "source": [
    "macroFactor.index"
   ]
  },
  {
   "cell_type": "code",
   "execution_count": 155,
   "metadata": {},
   "outputs": [],
   "source": [
    "with open(os.path.join(datapath, \"method_for_macro_raw_data.json\"), \"r\") as file:\n",
    "    method_for_macro = json.load(file)"
   ]
  },
  {
   "cell_type": "code",
   "execution_count": 156,
   "metadata": {},
   "outputs": [
    {
     "data": {
      "text/plain": [
       "dict_keys(['output_and_income', 'labor_market', 'housing', 'consumption', 'money', 'bond_ex', 'price', 'stock'])"
      ]
     },
     "execution_count": 156,
     "metadata": {},
     "output_type": "execute_result"
    }
   ],
   "source": [
    "method_for_macro.keys()"
   ]
  },
  {
   "cell_type": "code",
   "execution_count": null,
   "metadata": {},
   "outputs": [],
   "source": []
  },
  {
   "cell_type": "code",
   "execution_count": 157,
   "metadata": {},
   "outputs": [],
   "source": [
    "financialFactor = pd.read_csv(os.path.join(datapath, \"financial_data.csv\"))\n",
    "financialFactor = financialFactor.set_index(\"Date\")\n",
    "financialFactor.index = pd.to_datetime(financialFactor.index)"
   ]
  },
  {
   "cell_type": "code",
   "execution_count": 158,
   "metadata": {},
   "outputs": [
    {
     "data": {
      "text/plain": [
       "DatetimeIndex(['1960-01-31', '1960-02-29', '1960-03-31', '1960-04-30',\n",
       "               '1960-05-31', '1960-06-30', '1960-07-31', '1960-08-31',\n",
       "               '1960-09-30', '1960-10-31',\n",
       "               ...\n",
       "               '2011-03-31', '2011-04-30', '2011-05-31', '2011-06-30',\n",
       "               '2011-07-31', '2011-08-31', '2011-09-30', '2011-10-31',\n",
       "               '2011-11-30', '2011-12-31'],\n",
       "              dtype='datetime64[ns]', name='Date', length=624, freq=None)"
      ]
     },
     "execution_count": 158,
     "metadata": {},
     "output_type": "execute_result"
    }
   ],
   "source": [
    "financialFactor.index"
   ]
  },
  {
   "cell_type": "code",
   "execution_count": 159,
   "metadata": {},
   "outputs": [],
   "source": [
    "with open(os.path.join(datapath, \"class_of_financial.json\"), \"r\") as file:\n",
    "    class_of_financial = json.load(file)"
   ]
  },
  {
   "cell_type": "code",
   "execution_count": 160,
   "metadata": {},
   "outputs": [
    {
     "data": {
      "text/plain": [
       "dict_keys(['Prices,Yield,Dividends(PYD)', 'RiskFactors(RiF)', 'Industries', 'Size/BM'])"
      ]
     },
     "execution_count": 160,
     "metadata": {},
     "output_type": "execute_result"
    }
   ],
   "source": [
    "class_of_financial.keys()"
   ]
  },
  {
   "cell_type": "code",
   "execution_count": null,
   "metadata": {},
   "outputs": [],
   "source": []
  },
  {
   "cell_type": "markdown",
   "metadata": {},
   "source": [
    "## Total"
   ]
  },
  {
   "cell_type": "code",
   "execution_count": 161,
   "metadata": {},
   "outputs": [],
   "source": [
    "import math\n",
    "import matplotlib.pyplot as plt\n",
    "import seaborn as sns\n",
    "import pydea as dea\n",
    "\n",
    "def check_data(inoutdat, issave = False):\n",
    "    sns.set_style(\"white\")\n",
    "\n",
    "    num_plots = inoutdat.shape[1]\n",
    "    n = int(math.ceil(math.sqrt(num_plots)))\n",
    "\n",
    "    fig = plt.figure(figsize=(16, 6))\n",
    "    axes = [plt.subplot(n, n, i) for i in range(1, num_plots + 1)]\n",
    "\n",
    "    i = 0\n",
    "    for k, v in inoutdat.iteritems():\n",
    "        ax = axes[i]\n",
    "        sns.kdeplot(v, shade=True, ax=ax, legend=False)\n",
    "        [label.set_visible(False) for label in ax.get_yticklabels()]\n",
    "        ax.xaxis.set_ticks([v.min(), v.max()])\n",
    "        ax.set_title(k)\n",
    "        i += 1\n",
    "    sns.despine(left=True, trim=True, fig=fig)\n",
    "    plt.tight_layout()\n",
    "    \n",
    "    if issave:\n",
    "        plt.savefig(\"check_data.png\")\n",
    "\n",
    "def correlation(inoutdat, issave = False):\n",
    "    sns.set(style=\"white\")\n",
    "    \n",
    "    # Compute the correlation matrix\n",
    "    corr = inoutdat.corr()\n",
    "    \n",
    "    # Generate a mask for the upper triangle\n",
    "    mask = np.zeros_like(corr, dtype=np.bool)\n",
    "    mask[np.triu_indices_from(mask)] = True\n",
    "    \n",
    "    # Set up the matplotlib figure\n",
    "    f, ax = plt.subplots(figsize=(7, 7))\n",
    "    \n",
    "    # Generate a custom diverging colormap\n",
    "    cmap = sns.diverging_palette(220, 10, as_cmap=True)\n",
    "    \n",
    "    # Draw the heatmap with the mask and correct aspect ratio\n",
    "    sns.heatmap(corr, mask=mask, cmap=cmap, vmax=.3, center=0,\n",
    "                square=True, linewidths=.5, cbar_kws={\"shrink\": .5})\n",
    "    if issave:\n",
    "        plt.savefig(\"correlation.png\")"
   ]
  },
  {
   "cell_type": "code",
   "execution_count": 162,
   "metadata": {},
   "outputs": [],
   "source": [
    "from sklearn.decomposition import PCA, KernelPCA \n",
    "# pca = PCA(n_components=1)\n",
    "# pca.fit(X)\n",
    "# pca.fit_transform(X)\n",
    "# pca.explained_variance_ratio_\n",
    "# pca.transform(X)\n",
    "\n",
    "# KernelPCA(kernel : “linear” | “poly” | “rbf” | “sigmoid” | “cosine” | “precomputed”)"
   ]
  },
  {
   "cell_type": "code",
   "execution_count": 163,
   "metadata": {},
   "outputs": [],
   "source": [
    "from sklearn import preprocessing\n",
    "# scaler = preprocessing.StandardScaler().fit(X)\n",
    "# scaler.transform(X) \n",
    "\n",
    "# min_max_scaler = preprocessing.MinMaxScaler()\n",
    "# X_train_minmax = min_max_scaler.fit_transform(X_train)\n",
    "# X_test_minmax = min_max_scaler.transform(X_test)"
   ]
  },
  {
   "cell_type": "code",
   "execution_count": null,
   "metadata": {},
   "outputs": [],
   "source": []
  },
  {
   "cell_type": "code",
   "execution_count": null,
   "metadata": {},
   "outputs": [],
   "source": []
  },
  {
   "cell_type": "code",
   "execution_count": 164,
   "metadata": {},
   "outputs": [],
   "source": [
    "begin_date = pd.Timestamp(\"1980-01-30\")\n",
    "end_date = pd.Timestamp(\"2009-12-01\")"
   ]
  },
  {
   "cell_type": "code",
   "execution_count": null,
   "metadata": {},
   "outputs": [],
   "source": []
  },
  {
   "cell_type": "code",
   "execution_count": 226,
   "metadata": {},
   "outputs": [],
   "source": [
    "CLI_allFactor = CLI_allFactor.loc[begin_date: end_date]"
   ]
  },
  {
   "cell_type": "code",
   "execution_count": 227,
   "metadata": {},
   "outputs": [
    {
     "data": {
      "image/png": "[encoded data removed]",
      "text/plain": [
       "<Figure size 1152x432 with 8 Axes>"
      ]
     },
     "metadata": {},
     "output_type": "display_data"
    }
   ],
   "source": [
    "check_data(CLI_allFactor)"
   ]
  },
  {
   "cell_type": "code",
   "execution_count": 228,
   "metadata": {},
   "outputs": [
    {
     "data": {
      "image/png": "[encoded data removed]",
      "text/plain": [
       "<Figure size 504x504 with 2 Axes>"
      ]
     },
     "metadata": {},
     "output_type": "display_data"
    }
   ],
   "source": [
    "correlation(CLI_allFactor)"
   ]
  },
  {
   "cell_type": "code",
   "execution_count": 229,
   "metadata": {},
   "outputs": [
    {
     "data": {
      "text/plain": [
       "array([0.52839571])"
      ]
     },
     "execution_count": 229,
     "metadata": {},
     "output_type": "execute_result"
    }
   ],
   "source": [
    "CLI_allPca = PCA(n_components=1)\n",
    "# CLI_allFactorPca = pd.DataFrame(CLI_allPca.fit_transform(CLI_allFactor), \n",
    "#                                 index = CLI_allFactor.index, columns = ['CLI_allPca'])\n",
    "CLI_allFactorPca = pd.DataFrame(CLI_allPca.fit_transform(preprocessing.scale(CLI_allFactor)), \n",
    "                                index = CLI_allFactor.index, columns = ['CLI_allPca'])\n",
    "CLI_allPca.explained_variance_ratio_"
   ]
  },
  {
   "cell_type": "code",
   "execution_count": null,
   "metadata": {},
   "outputs": [],
   "source": []
  },
  {
   "cell_type": "code",
   "execution_count": null,
   "metadata": {},
   "outputs": [],
   "source": []
  },
  {
   "cell_type": "code",
   "execution_count": null,
   "metadata": {},
   "outputs": [],
   "source": []
  },
  {
   "cell_type": "code",
   "execution_count": null,
   "metadata": {},
   "outputs": [],
   "source": []
  },
  {
   "cell_type": "code",
   "execution_count": null,
   "metadata": {},
   "outputs": [],
   "source": []
  },
  {
   "cell_type": "code",
   "execution_count": 230,
   "metadata": {},
   "outputs": [],
   "source": [
    "techFactor = techFactor.loc[begin_date: end_date]"
   ]
  },
  {
   "cell_type": "code",
   "execution_count": 231,
   "metadata": {},
   "outputs": [
    {
     "name": "stdout",
     "output_type": "stream",
     "text": [
      "tech_class0\n",
      "[0.93386388]\n",
      "tech_class1\n",
      "[0.61451743]\n",
      "tech_class2\n",
      "[0.33822343]\n",
      "tech_class3\n",
      "[0.34040018]\n",
      "tech_class4\n",
      "[0.44169018]\n",
      "tech_class5\n",
      "[0.31506457]\n",
      "tech_class6\n",
      "[0.31125827]\n",
      "tech_class7\n",
      "[0.83452416]\n",
      "tech_class8\n",
      "[0.34914028]\n",
      "tech_class9\n",
      "[0.42276173]\n"
     ]
    },
    {
     "name": "stderr",
     "output_type": "stream",
     "text": [
      "C:\\Anaconda3\\lib\\site-packages\\sklearn\\preprocessing\\data.py:164: UserWarning: Numerical issues were encountered when centering the data and might not be solved. Dataset may contain too large values. You may need to prescale your features.\n",
      "  warnings.warn(\"Numerical issues were encountered \"\n",
      "C:\\Anaconda3\\lib\\site-packages\\sklearn\\preprocessing\\data.py:164: UserWarning: Numerical issues were encountered when centering the data and might not be solved. Dataset may contain too large values. You may need to prescale your features.\n",
      "  warnings.warn(\"Numerical issues were encountered \"\n"
     ]
    },
    {
     "data": {
      "text/html": [
       "<div>\n",
       "<style scoped>\n",
       "    .dataframe tbody tr th:only-of-type {\n",
       "        vertical-align: middle;\n",
       "    }\n",
       "\n",
       "    .dataframe tbody tr th {\n",
       "        vertical-align: top;\n",
       "    }\n",
       "\n",
       "    .dataframe thead th {\n",
       "        text-align: right;\n",
       "    }\n",
       "</style>\n",
       "<table border=\"1\" class=\"dataframe\">\n",
       "  <thead>\n",
       "    <tr style=\"text-align: right;\">\n",
       "      <th></th>\n",
       "      <th>tech_class0</th>\n",
       "      <th>tech_class1</th>\n",
       "      <th>tech_class2</th>\n",
       "      <th>tech_class3</th>\n",
       "      <th>tech_class4</th>\n",
       "      <th>tech_class5</th>\n",
       "      <th>tech_class6</th>\n",
       "      <th>tech_class7</th>\n",
       "      <th>tech_class8</th>\n",
       "      <th>tech_class9</th>\n",
       "    </tr>\n",
       "    <tr>\n",
       "      <th>Date</th>\n",
       "      <th></th>\n",
       "      <th></th>\n",
       "      <th></th>\n",
       "      <th></th>\n",
       "      <th></th>\n",
       "      <th></th>\n",
       "      <th></th>\n",
       "      <th></th>\n",
       "      <th></th>\n",
       "      <th></th>\n",
       "    </tr>\n",
       "  </thead>\n",
       "  <tbody>\n",
       "    <tr>\n",
       "      <th>1980-01-31</th>\n",
       "      <td>-6.842051</td>\n",
       "      <td>-2.677748</td>\n",
       "      <td>-1.404362</td>\n",
       "      <td>-3.209406</td>\n",
       "      <td>-3.573335</td>\n",
       "      <td>0.426064</td>\n",
       "      <td>-3.007701</td>\n",
       "      <td>-1.236144</td>\n",
       "      <td>-0.668620</td>\n",
       "      <td>-2.217071</td>\n",
       "    </tr>\n",
       "    <tr>\n",
       "      <th>1980-02-29</th>\n",
       "      <td>-6.840645</td>\n",
       "      <td>-2.601467</td>\n",
       "      <td>-0.267459</td>\n",
       "      <td>-2.668410</td>\n",
       "      <td>5.102152</td>\n",
       "      <td>0.322005</td>\n",
       "      <td>-2.920843</td>\n",
       "      <td>-1.125313</td>\n",
       "      <td>-1.631748</td>\n",
       "      <td>-2.019651</td>\n",
       "    </tr>\n",
       "    <tr>\n",
       "      <th>1980-03-31</th>\n",
       "      <td>-6.940417</td>\n",
       "      <td>-2.536461</td>\n",
       "      <td>0.115557</td>\n",
       "      <td>-2.404058</td>\n",
       "      <td>4.410496</td>\n",
       "      <td>0.468400</td>\n",
       "      <td>-2.513854</td>\n",
       "      <td>-0.717724</td>\n",
       "      <td>1.218498</td>\n",
       "      <td>-2.124947</td>\n",
       "    </tr>\n",
       "    <tr>\n",
       "      <th>1980-04-30</th>\n",
       "      <td>-6.937220</td>\n",
       "      <td>-2.496527</td>\n",
       "      <td>-1.282832</td>\n",
       "      <td>-3.126176</td>\n",
       "      <td>-6.859142</td>\n",
       "      <td>0.490524</td>\n",
       "      <td>-3.212144</td>\n",
       "      <td>-1.054050</td>\n",
       "      <td>1.488794</td>\n",
       "      <td>-2.319572</td>\n",
       "    </tr>\n",
       "    <tr>\n",
       "      <th>1980-05-31</th>\n",
       "      <td>-6.890086</td>\n",
       "      <td>-2.584954</td>\n",
       "      <td>-1.470643</td>\n",
       "      <td>-3.085088</td>\n",
       "      <td>-5.383442</td>\n",
       "      <td>0.339026</td>\n",
       "      <td>-4.100936</td>\n",
       "      <td>-1.310754</td>\n",
       "      <td>-0.119786</td>\n",
       "      <td>-2.310105</td>\n",
       "    </tr>\n",
       "  </tbody>\n",
       "</table>\n",
       "</div>"
      ],
      "text/plain": [
       "            tech_class0  tech_class1  tech_class2  tech_class3  tech_class4  \\\n",
       "Date                                                                          \n",
       "1980-01-31    -6.842051    -2.677748    -1.404362    -3.209406    -3.573335   \n",
       "1980-02-29    -6.840645    -2.601467    -0.267459    -2.668410     5.102152   \n",
       "1980-03-31    -6.940417    -2.536461     0.115557    -2.404058     4.410496   \n",
       "1980-04-30    -6.937220    -2.496527    -1.282832    -3.126176    -6.859142   \n",
       "1980-05-31    -6.890086    -2.584954    -1.470643    -3.085088    -5.383442   \n",
       "\n",
       "            tech_class5  tech_class6  tech_class7  tech_class8  tech_class9  \n",
       "Date                                                                         \n",
       "1980-01-31     0.426064    -3.007701    -1.236144    -0.668620    -2.217071  \n",
       "1980-02-29     0.322005    -2.920843    -1.125313    -1.631748    -2.019651  \n",
       "1980-03-31     0.468400    -2.513854    -0.717724     1.218498    -2.124947  \n",
       "1980-04-30     0.490524    -3.212144    -1.054050     1.488794    -2.319572  \n",
       "1980-05-31     0.339026    -4.100936    -1.310754    -0.119786    -2.310105  "
      ]
     },
     "execution_count": 231,
     "metadata": {},
     "output_type": "execute_result"
    }
   ],
   "source": [
    "columns = [\"tech_\" + value for value in techclass.keys()]\n",
    "techFactorPca = pd.DataFrame(columns=columns, index = techFactor.index)\n",
    "\n",
    "for i in range(len(techclass.keys())):\n",
    "    name = \"tech_class\" +  str(i)\n",
    "    column = techclass[\"class\" +  str(i)]\n",
    "    pca = PCA(n_components=1)\n",
    "#     techFactorPca[name] = pca.fit_transform(techFactor[column])\n",
    "    techFactorPca[name] = pca.fit_transform(preprocessing.scale(techFactor[column]))\n",
    "    print(name)\n",
    "    print(pca.explained_variance_ratio_)\n",
    "    \n",
    "techFactorPca.head()"
   ]
  },
  {
   "cell_type": "code",
   "execution_count": 232,
   "metadata": {},
   "outputs": [
    {
     "data": {
      "image/png": "[encoded data removed]",
      "text/plain": [
       "<Figure size 1152x432 with 10 Axes>"
      ]
     },
     "metadata": {},
     "output_type": "display_data"
    }
   ],
   "source": [
    "check_data(techFactorPca)"
   ]
  },
  {
   "cell_type": "code",
   "execution_count": 233,
   "metadata": {},
   "outputs": [
    {
     "data": {
      "image/png": "[encoded data removed]",
      "text/plain": [
       "<Figure size 504x504 with 2 Axes>"
      ]
     },
     "metadata": {},
     "output_type": "display_data"
    }
   ],
   "source": [
    "correlation(techFactorPca)"
   ]
  },
  {
   "cell_type": "code",
   "execution_count": null,
   "metadata": {},
   "outputs": [],
   "source": []
  },
  {
   "cell_type": "code",
   "execution_count": 234,
   "metadata": {},
   "outputs": [],
   "source": [
    "# pca = PCA(n_components=1)\n",
    "# techFactorPca[\"tech_afterclass\"] = pca.fit_transform(techFactorPca)\n",
    "# pca.explained_variance_ratio_"
   ]
  },
  {
   "cell_type": "code",
   "execution_count": 235,
   "metadata": {},
   "outputs": [],
   "source": [
    "# pca = PCA(n_components=1)\n",
    "# techFactorPca[\"tech_beforeclass\"] = pca.fit_transform(techFactor)\n",
    "# pca.explained_variance_ratio_"
   ]
  },
  {
   "cell_type": "code",
   "execution_count": null,
   "metadata": {},
   "outputs": [],
   "source": []
  },
  {
   "cell_type": "code",
   "execution_count": null,
   "metadata": {},
   "outputs": [],
   "source": []
  },
  {
   "cell_type": "code",
   "execution_count": null,
   "metadata": {},
   "outputs": [],
   "source": []
  },
  {
   "cell_type": "code",
   "execution_count": 236,
   "metadata": {},
   "outputs": [],
   "source": [
    "macroFactor = macroFactor.loc[begin_date: end_date]"
   ]
  },
  {
   "cell_type": "code",
   "execution_count": 237,
   "metadata": {},
   "outputs": [
    {
     "name": "stdout",
     "output_type": "stream",
     "text": [
      "output_and_income\n",
      "[0.54975245]\n",
      "labor_market\n",
      "[0.35976052]\n",
      "housing\n",
      "[0.81303351]\n",
      "consumption\n",
      "[0.31180828]\n",
      "money\n",
      "[0.26140145]\n",
      "bond_ex\n",
      "[0.33635531]\n",
      "price\n",
      "[0.4276309]\n",
      "stock\n",
      "[0.88844854]\n"
     ]
    },
    {
     "data": {
      "text/html": [
       "<div>\n",
       "<style scoped>\n",
       "    .dataframe tbody tr th:only-of-type {\n",
       "        vertical-align: middle;\n",
       "    }\n",
       "\n",
       "    .dataframe tbody tr th {\n",
       "        vertical-align: top;\n",
       "    }\n",
       "\n",
       "    .dataframe thead th {\n",
       "        text-align: right;\n",
       "    }\n",
       "</style>\n",
       "<table border=\"1\" class=\"dataframe\">\n",
       "  <thead>\n",
       "    <tr style=\"text-align: right;\">\n",
       "      <th></th>\n",
       "      <th>output_and_income</th>\n",
       "      <th>labor_market</th>\n",
       "      <th>housing</th>\n",
       "      <th>consumption</th>\n",
       "      <th>money</th>\n",
       "      <th>bond_ex</th>\n",
       "      <th>price</th>\n",
       "      <th>stock</th>\n",
       "    </tr>\n",
       "    <tr>\n",
       "      <th>Date</th>\n",
       "      <th></th>\n",
       "      <th></th>\n",
       "      <th></th>\n",
       "      <th></th>\n",
       "      <th></th>\n",
       "      <th></th>\n",
       "      <th></th>\n",
       "      <th></th>\n",
       "    </tr>\n",
       "  </thead>\n",
       "  <tbody>\n",
       "    <tr>\n",
       "      <th>1980-01-31</th>\n",
       "      <td>-0.276835</td>\n",
       "      <td>0.680118</td>\n",
       "      <td>0.690648</td>\n",
       "      <td>-0.415930</td>\n",
       "      <td>-0.190647</td>\n",
       "      <td>0.740911</td>\n",
       "      <td>3.706864</td>\n",
       "      <td>-1.046111</td>\n",
       "    </tr>\n",
       "    <tr>\n",
       "      <th>1980-02-29</th>\n",
       "      <td>0.178799</td>\n",
       "      <td>0.619457</td>\n",
       "      <td>1.250333</td>\n",
       "      <td>2.056744</td>\n",
       "      <td>0.288877</td>\n",
       "      <td>-7.705489</td>\n",
       "      <td>-1.903610</td>\n",
       "      <td>-1.757090</td>\n",
       "    </tr>\n",
       "    <tr>\n",
       "      <th>1980-03-31</th>\n",
       "      <td>3.179876</td>\n",
       "      <td>2.013274</td>\n",
       "      <td>3.204315</td>\n",
       "      <td>5.494876</td>\n",
       "      <td>1.696176</td>\n",
       "      <td>-8.128151</td>\n",
       "      <td>0.460685</td>\n",
       "      <td>6.330483</td>\n",
       "    </tr>\n",
       "    <tr>\n",
       "      <th>1980-04-30</th>\n",
       "      <td>8.512555</td>\n",
       "      <td>10.409895</td>\n",
       "      <td>4.231241</td>\n",
       "      <td>6.976167</td>\n",
       "      <td>1.131839</td>\n",
       "      <td>12.664420</td>\n",
       "      <td>-5.434930</td>\n",
       "      <td>1.714072</td>\n",
       "    </tr>\n",
       "    <tr>\n",
       "      <th>1980-05-31</th>\n",
       "      <td>11.616416</td>\n",
       "      <td>8.453404</td>\n",
       "      <td>4.511194</td>\n",
       "      <td>8.124465</td>\n",
       "      <td>-0.911862</td>\n",
       "      <td>21.407084</td>\n",
       "      <td>0.775295</td>\n",
       "      <td>-2.133514</td>\n",
       "    </tr>\n",
       "  </tbody>\n",
       "</table>\n",
       "</div>"
      ],
      "text/plain": [
       "            output_and_income  labor_market   housing  consumption     money  \\\n",
       "Date                                                                           \n",
       "1980-01-31          -0.276835      0.680118  0.690648    -0.415930 -0.190647   \n",
       "1980-02-29           0.178799      0.619457  1.250333     2.056744  0.288877   \n",
       "1980-03-31           3.179876      2.013274  3.204315     5.494876  1.696176   \n",
       "1980-04-30           8.512555     10.409895  4.231241     6.976167  1.131839   \n",
       "1980-05-31          11.616416      8.453404  4.511194     8.124465 -0.911862   \n",
       "\n",
       "              bond_ex     price     stock  \n",
       "Date                                       \n",
       "1980-01-31   0.740911  3.706864 -1.046111  \n",
       "1980-02-29  -7.705489 -1.903610 -1.757090  \n",
       "1980-03-31  -8.128151  0.460685  6.330483  \n",
       "1980-04-30  12.664420 -5.434930  1.714072  \n",
       "1980-05-31  21.407084  0.775295 -2.133514  "
      ]
     },
     "execution_count": 237,
     "metadata": {},
     "output_type": "execute_result"
    }
   ],
   "source": [
    "macroFactorPca = pd.DataFrame(columns=method_for_macro.keys(), index=macroFactor.index)\n",
    "\n",
    "for name in method_for_macro.keys():\n",
    "    column = list(method_for_macro[name].keys())\n",
    "    pca = PCA(n_components=1)\n",
    "#     macroFactorPca[name] = pca.fit_transform(macroFactor[column])\n",
    "    macroFactorPca[name] = pca.fit_transform(preprocessing.scale(macroFactor[column]))\n",
    "    print(name)\n",
    "    print(pca.explained_variance_ratio_)\n",
    "    \n",
    "macroFactorPca.head()"
   ]
  },
  {
   "cell_type": "code",
   "execution_count": null,
   "metadata": {},
   "outputs": [],
   "source": []
  },
  {
   "cell_type": "code",
   "execution_count": null,
   "metadata": {},
   "outputs": [],
   "source": []
  },
  {
   "cell_type": "code",
   "execution_count": null,
   "metadata": {},
   "outputs": [],
   "source": []
  },
  {
   "cell_type": "code",
   "execution_count": 238,
   "metadata": {},
   "outputs": [],
   "source": [
    "financialFactor = financialFactor.loc[begin_date: end_date]"
   ]
  },
  {
   "cell_type": "code",
   "execution_count": 239,
   "metadata": {},
   "outputs": [
    {
     "name": "stdout",
     "output_type": "stream",
     "text": [
      "Prices,Yield,Dividends(PYD)\n",
      "[0.44179666]\n",
      "RiskFactors(RiF)\n",
      "[0.53490768]\n",
      "Industries\n",
      "[0.59412912]\n",
      "Size/BM\n",
      "[0.73584039]\n"
     ]
    },
    {
     "data": {
      "text/html": [
       "<div>\n",
       "<style scoped>\n",
       "    .dataframe tbody tr th:only-of-type {\n",
       "        vertical-align: middle;\n",
       "    }\n",
       "\n",
       "    .dataframe tbody tr th {\n",
       "        vertical-align: top;\n",
       "    }\n",
       "\n",
       "    .dataframe thead th {\n",
       "        text-align: right;\n",
       "    }\n",
       "</style>\n",
       "<table border=\"1\" class=\"dataframe\">\n",
       "  <thead>\n",
       "    <tr style=\"text-align: right;\">\n",
       "      <th></th>\n",
       "      <th>Prices,Yield,Dividends(PYD)</th>\n",
       "      <th>RiskFactors(RiF)</th>\n",
       "      <th>Industries</th>\n",
       "      <th>Size/BM</th>\n",
       "    </tr>\n",
       "    <tr>\n",
       "      <th>Date</th>\n",
       "      <th></th>\n",
       "      <th></th>\n",
       "      <th></th>\n",
       "      <th></th>\n",
       "    </tr>\n",
       "  </thead>\n",
       "  <tbody>\n",
       "    <tr>\n",
       "      <th>1980-01-31</th>\n",
       "      <td>-1.209620</td>\n",
       "      <td>0.476826</td>\n",
       "      <td>-5.277320</td>\n",
       "      <td>-9.357321</td>\n",
       "    </tr>\n",
       "    <tr>\n",
       "      <th>1980-02-29</th>\n",
       "      <td>-2.035485</td>\n",
       "      <td>0.112364</td>\n",
       "      <td>4.537857</td>\n",
       "      <td>5.557173</td>\n",
       "    </tr>\n",
       "    <tr>\n",
       "      <th>1980-03-31</th>\n",
       "      <td>4.412955</td>\n",
       "      <td>-1.084897</td>\n",
       "      <td>13.273740</td>\n",
       "      <td>27.794963</td>\n",
       "    </tr>\n",
       "    <tr>\n",
       "      <th>1980-04-30</th>\n",
       "      <td>-0.640080</td>\n",
       "      <td>0.374646</td>\n",
       "      <td>-3.239576</td>\n",
       "      <td>-8.250706</td>\n",
       "    </tr>\n",
       "    <tr>\n",
       "      <th>1980-05-31</th>\n",
       "      <td>-3.476649</td>\n",
       "      <td>0.504098</td>\n",
       "      <td>-6.223614</td>\n",
       "      <td>-10.379310</td>\n",
       "    </tr>\n",
       "  </tbody>\n",
       "</table>\n",
       "</div>"
      ],
      "text/plain": [
       "            Prices,Yield,Dividends(PYD)  RiskFactors(RiF)  Industries  \\\n",
       "Date                                                                    \n",
       "1980-01-31                    -1.209620          0.476826   -5.277320   \n",
       "1980-02-29                    -2.035485          0.112364    4.537857   \n",
       "1980-03-31                     4.412955         -1.084897   13.273740   \n",
       "1980-04-30                    -0.640080          0.374646   -3.239576   \n",
       "1980-05-31                    -3.476649          0.504098   -6.223614   \n",
       "\n",
       "              Size/BM  \n",
       "Date                   \n",
       "1980-01-31  -9.357321  \n",
       "1980-02-29   5.557173  \n",
       "1980-03-31  27.794963  \n",
       "1980-04-30  -8.250706  \n",
       "1980-05-31 -10.379310  "
      ]
     },
     "execution_count": 239,
     "metadata": {},
     "output_type": "execute_result"
    }
   ],
   "source": [
    "financialFactorPca = pd.DataFrame(columns=class_of_financial.keys(), index=financialFactor.index)\n",
    "\n",
    "for name in class_of_financial.keys():\n",
    "    column = list(class_of_financial[name])\n",
    "    pca = PCA(n_components=1)\n",
    "#     financialFactorPca[name] = pca.fit_transform(financialFactor[column])\n",
    "    financialFactorPca[name] = pca.fit_transform(preprocessing.scale(financialFactor[column]))\n",
    "    print(name)\n",
    "    print(pca.explained_variance_ratio_)\n",
    "    \n",
    "financialFactorPca.head()"
   ]
  },
  {
   "cell_type": "code",
   "execution_count": 240,
   "metadata": {},
   "outputs": [
    {
     "data": {
      "text/html": [
       "<div>\n",
       "<style scoped>\n",
       "    .dataframe tbody tr th:only-of-type {\n",
       "        vertical-align: middle;\n",
       "    }\n",
       "\n",
       "    .dataframe tbody tr th {\n",
       "        vertical-align: top;\n",
       "    }\n",
       "\n",
       "    .dataframe thead th {\n",
       "        text-align: right;\n",
       "    }\n",
       "</style>\n",
       "<table border=\"1\" class=\"dataframe\">\n",
       "  <thead>\n",
       "    <tr style=\"text-align: right;\">\n",
       "      <th></th>\n",
       "      <th>Prices,Yield,Dividends(PYD)</th>\n",
       "      <th>RiskFactors(RiF)</th>\n",
       "      <th>Industries</th>\n",
       "      <th>Size/BM</th>\n",
       "    </tr>\n",
       "  </thead>\n",
       "  <tbody>\n",
       "    <tr>\n",
       "      <th>count</th>\n",
       "      <td>3.590000e+02</td>\n",
       "      <td>3.590000e+02</td>\n",
       "      <td>3.590000e+02</td>\n",
       "      <td>3.590000e+02</td>\n",
       "    </tr>\n",
       "    <tr>\n",
       "      <th>mean</th>\n",
       "      <td>3.834754e-17</td>\n",
       "      <td>3.363141e-17</td>\n",
       "      <td>-1.063835e-16</td>\n",
       "      <td>1.707084e-16</td>\n",
       "    </tr>\n",
       "    <tr>\n",
       "      <th>std</th>\n",
       "      <td>1.488339e+00</td>\n",
       "      <td>1.793993e+00</td>\n",
       "      <td>5.061513e+00</td>\n",
       "      <td>8.283979e+00</td>\n",
       "    </tr>\n",
       "    <tr>\n",
       "      <th>min</th>\n",
       "      <td>-5.114597e+00</td>\n",
       "      <td>-6.283535e+00</td>\n",
       "      <td>-1.490665e+01</td>\n",
       "      <td>-2.169788e+01</td>\n",
       "    </tr>\n",
       "    <tr>\n",
       "      <th>25%</th>\n",
       "      <td>-9.547404e-01</td>\n",
       "      <td>-9.218079e-01</td>\n",
       "      <td>-3.076365e+00</td>\n",
       "      <td>-5.078756e+00</td>\n",
       "    </tr>\n",
       "    <tr>\n",
       "      <th>50%</th>\n",
       "      <td>1.567538e-01</td>\n",
       "      <td>6.319601e-02</td>\n",
       "      <td>-4.619127e-01</td>\n",
       "      <td>-1.011703e+00</td>\n",
       "    </tr>\n",
       "    <tr>\n",
       "      <th>75%</th>\n",
       "      <td>9.694243e-01</td>\n",
       "      <td>9.151537e-01</td>\n",
       "      <td>2.714927e+00</td>\n",
       "      <td>4.562046e+00</td>\n",
       "    </tr>\n",
       "    <tr>\n",
       "      <th>max</th>\n",
       "      <td>5.535950e+00</td>\n",
       "      <td>1.000580e+01</td>\n",
       "      <td>3.205694e+01</td>\n",
       "      <td>5.171199e+01</td>\n",
       "    </tr>\n",
       "  </tbody>\n",
       "</table>\n",
       "</div>"
      ],
      "text/plain": [
       "       Prices,Yield,Dividends(PYD)  RiskFactors(RiF)    Industries  \\\n",
       "count                 3.590000e+02      3.590000e+02  3.590000e+02   \n",
       "mean                  3.834754e-17      3.363141e-17 -1.063835e-16   \n",
       "std                   1.488339e+00      1.793993e+00  5.061513e+00   \n",
       "min                  -5.114597e+00     -6.283535e+00 -1.490665e+01   \n",
       "25%                  -9.547404e-01     -9.218079e-01 -3.076365e+00   \n",
       "50%                   1.567538e-01      6.319601e-02 -4.619127e-01   \n",
       "75%                   9.694243e-01      9.151537e-01  2.714927e+00   \n",
       "max                   5.535950e+00      1.000580e+01  3.205694e+01   \n",
       "\n",
       "            Size/BM  \n",
       "count  3.590000e+02  \n",
       "mean   1.707084e-16  \n",
       "std    8.283979e+00  \n",
       "min   -2.169788e+01  \n",
       "25%   -5.078756e+00  \n",
       "50%   -1.011703e+00  \n",
       "75%    4.562046e+00  \n",
       "max    5.171199e+01  "
      ]
     },
     "execution_count": 240,
     "metadata": {},
     "output_type": "execute_result"
    }
   ],
   "source": [
    "financialFactorPca.describe()"
   ]
  },
  {
   "cell_type": "code",
   "execution_count": null,
   "metadata": {},
   "outputs": [],
   "source": []
  },
  {
   "cell_type": "code",
   "execution_count": null,
   "metadata": {},
   "outputs": [],
   "source": []
  },
  {
   "cell_type": "code",
   "execution_count": null,
   "metadata": {},
   "outputs": [],
   "source": []
  },
  {
   "cell_type": "code",
   "execution_count": 241,
   "metadata": {},
   "outputs": [],
   "source": [
    "pcaFactor = pd.concat([CLI_allFactorPca, \n",
    "                      techFactorPca,\n",
    "                      macroFactorPca,\n",
    "                      financialFactorPca], axis = 1)\n",
    "pcaFactor = pcaFactor.fillna(method = \"ffill\")"
   ]
  },
  {
   "cell_type": "code",
   "execution_count": 242,
   "metadata": {},
   "outputs": [
    {
     "data": {
      "text/html": [
       "<div>\n",
       "<style scoped>\n",
       "    .dataframe tbody tr th:only-of-type {\n",
       "        vertical-align: middle;\n",
       "    }\n",
       "\n",
       "    .dataframe tbody tr th {\n",
       "        vertical-align: top;\n",
       "    }\n",
       "\n",
       "    .dataframe thead th {\n",
       "        text-align: right;\n",
       "    }\n",
       "</style>\n",
       "<table border=\"1\" class=\"dataframe\">\n",
       "  <thead>\n",
       "    <tr style=\"text-align: right;\">\n",
       "      <th></th>\n",
       "      <th>CLI_allPca</th>\n",
       "      <th>tech_class0</th>\n",
       "      <th>tech_class1</th>\n",
       "      <th>tech_class2</th>\n",
       "      <th>tech_class3</th>\n",
       "      <th>tech_class4</th>\n",
       "      <th>tech_class5</th>\n",
       "      <th>tech_class6</th>\n",
       "      <th>tech_class7</th>\n",
       "      <th>tech_class8</th>\n",
       "      <th>...</th>\n",
       "      <th>housing</th>\n",
       "      <th>consumption</th>\n",
       "      <th>money</th>\n",
       "      <th>bond_ex</th>\n",
       "      <th>price</th>\n",
       "      <th>stock</th>\n",
       "      <th>Prices,Yield,Dividends(PYD)</th>\n",
       "      <th>RiskFactors(RiF)</th>\n",
       "      <th>Industries</th>\n",
       "      <th>Size/BM</th>\n",
       "    </tr>\n",
       "    <tr>\n",
       "      <th>Date</th>\n",
       "      <th></th>\n",
       "      <th></th>\n",
       "      <th></th>\n",
       "      <th></th>\n",
       "      <th></th>\n",
       "      <th></th>\n",
       "      <th></th>\n",
       "      <th></th>\n",
       "      <th></th>\n",
       "      <th></th>\n",
       "      <th></th>\n",
       "      <th></th>\n",
       "      <th></th>\n",
       "      <th></th>\n",
       "      <th></th>\n",
       "      <th></th>\n",
       "      <th></th>\n",
       "      <th></th>\n",
       "      <th></th>\n",
       "      <th></th>\n",
       "      <th></th>\n",
       "    </tr>\n",
       "  </thead>\n",
       "  <tbody>\n",
       "    <tr>\n",
       "      <th>1980-01-31</th>\n",
       "      <td>-1.062135</td>\n",
       "      <td>-6.842051</td>\n",
       "      <td>-2.677748</td>\n",
       "      <td>-1.404362</td>\n",
       "      <td>-3.209406</td>\n",
       "      <td>-3.573335</td>\n",
       "      <td>0.426064</td>\n",
       "      <td>-3.007701</td>\n",
       "      <td>-1.236144</td>\n",
       "      <td>-0.668620</td>\n",
       "      <td>...</td>\n",
       "      <td>0.690648</td>\n",
       "      <td>-0.415930</td>\n",
       "      <td>-0.190647</td>\n",
       "      <td>0.740911</td>\n",
       "      <td>3.706864</td>\n",
       "      <td>-1.046111</td>\n",
       "      <td>-1.209620</td>\n",
       "      <td>0.476826</td>\n",
       "      <td>-5.277320</td>\n",
       "      <td>-9.357321</td>\n",
       "    </tr>\n",
       "    <tr>\n",
       "      <th>1980-02-29</th>\n",
       "      <td>-0.518446</td>\n",
       "      <td>-6.840645</td>\n",
       "      <td>-2.601467</td>\n",
       "      <td>-0.267459</td>\n",
       "      <td>-2.668410</td>\n",
       "      <td>5.102152</td>\n",
       "      <td>0.322005</td>\n",
       "      <td>-2.920843</td>\n",
       "      <td>-1.125313</td>\n",
       "      <td>-1.631748</td>\n",
       "      <td>...</td>\n",
       "      <td>1.250333</td>\n",
       "      <td>2.056744</td>\n",
       "      <td>0.288877</td>\n",
       "      <td>-7.705489</td>\n",
       "      <td>-1.903610</td>\n",
       "      <td>-1.757090</td>\n",
       "      <td>-2.035485</td>\n",
       "      <td>0.112364</td>\n",
       "      <td>4.537857</td>\n",
       "      <td>5.557173</td>\n",
       "    </tr>\n",
       "    <tr>\n",
       "      <th>1980-03-31</th>\n",
       "      <td>0.063821</td>\n",
       "      <td>-6.940417</td>\n",
       "      <td>-2.536461</td>\n",
       "      <td>0.115557</td>\n",
       "      <td>-2.404058</td>\n",
       "      <td>4.410496</td>\n",
       "      <td>0.468400</td>\n",
       "      <td>-2.513854</td>\n",
       "      <td>-0.717724</td>\n",
       "      <td>1.218498</td>\n",
       "      <td>...</td>\n",
       "      <td>3.204315</td>\n",
       "      <td>5.494876</td>\n",
       "      <td>1.696176</td>\n",
       "      <td>-8.128151</td>\n",
       "      <td>0.460685</td>\n",
       "      <td>6.330483</td>\n",
       "      <td>4.412955</td>\n",
       "      <td>-1.084897</td>\n",
       "      <td>13.273740</td>\n",
       "      <td>27.794963</td>\n",
       "    </tr>\n",
       "    <tr>\n",
       "      <th>1980-04-30</th>\n",
       "      <td>0.603810</td>\n",
       "      <td>-6.937220</td>\n",
       "      <td>-2.496527</td>\n",
       "      <td>-1.282832</td>\n",
       "      <td>-3.126176</td>\n",
       "      <td>-6.859142</td>\n",
       "      <td>0.490524</td>\n",
       "      <td>-3.212144</td>\n",
       "      <td>-1.054050</td>\n",
       "      <td>1.488794</td>\n",
       "      <td>...</td>\n",
       "      <td>4.231241</td>\n",
       "      <td>6.976167</td>\n",
       "      <td>1.131839</td>\n",
       "      <td>12.664420</td>\n",
       "      <td>-5.434930</td>\n",
       "      <td>1.714072</td>\n",
       "      <td>-0.640080</td>\n",
       "      <td>0.374646</td>\n",
       "      <td>-3.239576</td>\n",
       "      <td>-8.250706</td>\n",
       "    </tr>\n",
       "    <tr>\n",
       "      <th>1980-05-31</th>\n",
       "      <td>1.000071</td>\n",
       "      <td>-6.890086</td>\n",
       "      <td>-2.584954</td>\n",
       "      <td>-1.470643</td>\n",
       "      <td>-3.085088</td>\n",
       "      <td>-5.383442</td>\n",
       "      <td>0.339026</td>\n",
       "      <td>-4.100936</td>\n",
       "      <td>-1.310754</td>\n",
       "      <td>-0.119786</td>\n",
       "      <td>...</td>\n",
       "      <td>4.511194</td>\n",
       "      <td>8.124465</td>\n",
       "      <td>-0.911862</td>\n",
       "      <td>21.407084</td>\n",
       "      <td>0.775295</td>\n",
       "      <td>-2.133514</td>\n",
       "      <td>-3.476649</td>\n",
       "      <td>0.504098</td>\n",
       "      <td>-6.223614</td>\n",
       "      <td>-10.379310</td>\n",
       "    </tr>\n",
       "  </tbody>\n",
       "</table>\n",
       "<p>5 rows × 23 columns</p>\n",
       "</div>"
      ],
      "text/plain": [
       "            CLI_allPca  tech_class0  tech_class1  tech_class2  tech_class3  \\\n",
       "Date                                                                         \n",
       "1980-01-31   -1.062135    -6.842051    -2.677748    -1.404362    -3.209406   \n",
       "1980-02-29   -0.518446    -6.840645    -2.601467    -0.267459    -2.668410   \n",
       "1980-03-31    0.063821    -6.940417    -2.536461     0.115557    -2.404058   \n",
       "1980-04-30    0.603810    -6.937220    -2.496527    -1.282832    -3.126176   \n",
       "1980-05-31    1.000071    -6.890086    -2.584954    -1.470643    -3.085088   \n",
       "\n",
       "            tech_class4  tech_class5  tech_class6  tech_class7  tech_class8  \\\n",
       "Date                                                                          \n",
       "1980-01-31    -3.573335     0.426064    -3.007701    -1.236144    -0.668620   \n",
       "1980-02-29     5.102152     0.322005    -2.920843    -1.125313    -1.631748   \n",
       "1980-03-31     4.410496     0.468400    -2.513854    -0.717724     1.218498   \n",
       "1980-04-30    -6.859142     0.490524    -3.212144    -1.054050     1.488794   \n",
       "1980-05-31    -5.383442     0.339026    -4.100936    -1.310754    -0.119786   \n",
       "\n",
       "              ...       housing  consumption     money    bond_ex     price  \\\n",
       "Date          ...                                                             \n",
       "1980-01-31    ...      0.690648    -0.415930 -0.190647   0.740911  3.706864   \n",
       "1980-02-29    ...      1.250333     2.056744  0.288877  -7.705489 -1.903610   \n",
       "1980-03-31    ...      3.204315     5.494876  1.696176  -8.128151  0.460685   \n",
       "1980-04-30    ...      4.231241     6.976167  1.131839  12.664420 -5.434930   \n",
       "1980-05-31    ...      4.511194     8.124465 -0.911862  21.407084  0.775295   \n",
       "\n",
       "               stock  Prices,Yield,Dividends(PYD)  RiskFactors(RiF)  \\\n",
       "Date                                                                  \n",
       "1980-01-31 -1.046111                    -1.209620          0.476826   \n",
       "1980-02-29 -1.757090                    -2.035485          0.112364   \n",
       "1980-03-31  6.330483                     4.412955         -1.084897   \n",
       "1980-04-30  1.714072                    -0.640080          0.374646   \n",
       "1980-05-31 -2.133514                    -3.476649          0.504098   \n",
       "\n",
       "            Industries    Size/BM  \n",
       "Date                               \n",
       "1980-01-31   -5.277320  -9.357321  \n",
       "1980-02-29    4.537857   5.557173  \n",
       "1980-03-31   13.273740  27.794963  \n",
       "1980-04-30   -3.239576  -8.250706  \n",
       "1980-05-31   -6.223614 -10.379310  \n",
       "\n",
       "[5 rows x 23 columns]"
      ]
     },
     "execution_count": 242,
     "metadata": {},
     "output_type": "execute_result"
    }
   ],
   "source": [
    "pcaFactor.head()"
   ]
  },
  {
   "cell_type": "code",
   "execution_count": 243,
   "metadata": {},
   "outputs": [],
   "source": [
    "# pcaFactor.to_csv(os.path.join(datapath, \"pcaFactor_scale.csv\"))"
   ]
  },
  {
   "cell_type": "code",
   "execution_count": null,
   "metadata": {},
   "outputs": [],
   "source": []
  },
  {
   "cell_type": "code",
   "execution_count": null,
   "metadata": {},
   "outputs": [],
   "source": []
  },
  {
   "cell_type": "code",
   "execution_count": null,
   "metadata": {},
   "outputs": [],
   "source": []
  },
  {
   "cell_type": "code",
   "execution_count": 216,
   "metadata": {},
   "outputs": [],
   "source": [
    "# vixFactor, vxoFactor, \n",
    "# SentiFactor"
   ]
  },
  {
   "cell_type": "code",
   "execution_count": 165,
   "metadata": {},
   "outputs": [],
   "source": [
    "dfFactor = pd.concat([AmLiqFactor, PSLiqFactor, CLI_USAFactor,\n",
    "                     FF5Factor, BWFactor, \n",
    "                     JumpRiskFactor, CPUSAFactor], axis = 1)\n",
    "dfFactor = dfFactor.loc[begin_date: end_date]"
   ]
  },
  {
   "cell_type": "code",
   "execution_count": 166,
   "metadata": {},
   "outputs": [
    {
     "data": {
      "text/plain": [
       "DatetimeIndex(['1980-01-31', '1980-02-29', '1980-03-31', '1980-04-30',\n",
       "               '1980-05-31', '1980-06-30', '1980-07-31', '1980-08-31',\n",
       "               '1980-09-30', '1980-10-31',\n",
       "               ...\n",
       "               '2009-02-28', '2009-03-31', '2009-04-30', '2009-05-31',\n",
       "               '2009-06-30', '2009-07-31', '2009-08-31', '2009-09-30',\n",
       "               '2009-10-31', '2009-11-30'],\n",
       "              dtype='datetime64[ns]', name='Date', length=359, freq='M')"
      ]
     },
     "execution_count": 166,
     "metadata": {},
     "output_type": "execute_result"
    }
   ],
   "source": [
    "dfFactor.index"
   ]
  },
  {
   "cell_type": "code",
   "execution_count": 168,
   "metadata": {},
   "outputs": [],
   "source": [
    "# dfFactor.to_csv(os.path.join(datapath, \"dfFactor.csv\"))"
   ]
  },
  {
   "cell_type": "code",
   "execution_count": null,
   "metadata": {},
   "outputs": [],
   "source": []
  },
  {
   "cell_type": "code",
   "execution_count": null,
   "metadata": {},
   "outputs": [],
   "source": []
  },
  {
   "cell_type": "code",
   "execution_count": 169,
   "metadata": {},
   "outputs": [],
   "source": [
    "LogExcessReturn = LogExcessReturn.loc[begin_date: end_date]"
   ]
  },
  {
   "cell_type": "code",
   "execution_count": 170,
   "metadata": {},
   "outputs": [
    {
     "data": {
      "text/plain": [
       "DatetimeIndex(['1980-01-31', '1980-02-29', '1980-03-31', '1980-04-30',\n",
       "               '1980-05-31', '1980-06-30', '1980-07-31', '1980-08-31',\n",
       "               '1980-09-30', '1980-10-31',\n",
       "               ...\n",
       "               '2009-02-28', '2009-03-31', '2009-04-30', '2009-05-31',\n",
       "               '2009-06-30', '2009-07-31', '2009-08-31', '2009-09-30',\n",
       "               '2009-10-31', '2009-11-30'],\n",
       "              dtype='datetime64[ns]', name='Date', length=359, freq=None)"
      ]
     },
     "execution_count": 170,
     "metadata": {},
     "output_type": "execute_result"
    }
   ],
   "source": [
    "LogExcessReturn.index"
   ]
  },
  {
   "cell_type": "code",
   "execution_count": null,
   "metadata": {},
   "outputs": [],
   "source": []
  },
  {
   "cell_type": "code",
   "execution_count": null,
   "metadata": {},
   "outputs": [],
   "source": []
  },
  {
   "cell_type": "code",
   "execution_count": null,
   "metadata": {},
   "outputs": [],
   "source": []
  },
  {
   "cell_type": "code",
   "execution_count": null,
   "metadata": {},
   "outputs": [],
   "source": []
  },
  {
   "cell_type": "code",
   "execution_count": null,
   "metadata": {},
   "outputs": [],
   "source": []
  },
  {
   "cell_type": "code",
   "execution_count": null,
   "metadata": {},
   "outputs": [],
   "source": []
  },
  {
   "cell_type": "code",
   "execution_count": null,
   "metadata": {},
   "outputs": [],
   "source": []
  },
  {
   "cell_type": "code",
   "execution_count": null,
   "metadata": {},
   "outputs": [],
   "source": []
  },
  {
   "cell_type": "code",
   "execution_count": null,
   "metadata": {},
   "outputs": [],
   "source": []
  },
  {
   "cell_type": "code",
   "execution_count": 1,
   "metadata": {},
   "outputs": [],
   "source": [
    "import pandas as pd\n",
    "import os"
   ]
  },
  {
   "cell_type": "code",
   "execution_count": 2,
   "metadata": {},
   "outputs": [],
   "source": [
    "begin_date = pd.Timestamp(\"1980-01-30\")\n",
    "end_date = pd.Timestamp(\"2009-12-01\")\n",
    "datapath = \"./data\"\n",
    "rawpath = \"./data/raw\""
   ]
  },
  {
   "cell_type": "code",
   "execution_count": 12,
   "metadata": {},
   "outputs": [],
   "source": [
    "LogExcessReturn = pd.read_csv(os.path.join(datapath, \"log_excess_return.csv\"))\n",
    "LogExcessReturn = LogExcessReturn.set_index(\"Date\")\n",
    "LogExcessReturn.index = pd.to_datetime(LogExcessReturn.index)\n",
    "LogExcessReturn = LogExcessReturn.loc[begin_date: end_date]"
   ]
  },
  {
   "cell_type": "code",
   "execution_count": 13,
   "metadata": {},
   "outputs": [
    {
     "data": {
      "text/plain": [
       "DatetimeIndex(['1980-01-31', '1980-02-29', '1980-03-31', '1980-04-30',\n",
       "               '1980-05-31', '1980-06-30', '1980-07-31', '1980-08-31',\n",
       "               '1980-09-30', '1980-10-31',\n",
       "               ...\n",
       "               '2009-02-28', '2009-03-31', '2009-04-30', '2009-05-31',\n",
       "               '2009-06-30', '2009-07-31', '2009-08-31', '2009-09-30',\n",
       "               '2009-10-31', '2009-11-30'],\n",
       "              dtype='datetime64[ns]', name='Date', length=359, freq=None)"
      ]
     },
     "execution_count": 13,
     "metadata": {},
     "output_type": "execute_result"
    }
   ],
   "source": [
    "LogExcessReturn.index"
   ]
  },
  {
   "cell_type": "code",
   "execution_count": 14,
   "metadata": {},
   "outputs": [
    {
     "data": {
      "text/plain": [
       "Index(['yr2', 'yr3', 'yr4', 'yr5'], dtype='object')"
      ]
     },
     "execution_count": 14,
     "metadata": {},
     "output_type": "execute_result"
    }
   ],
   "source": [
    "LogExcessReturn.columns"
   ]
  },
  {
   "cell_type": "code",
   "execution_count": 15,
   "metadata": {},
   "outputs": [
    {
     "data": {
      "text/plain": [
       "Index(['AmihudLiq', 'AggLiq', 'InnovLiq', 'TradedLiq', 'CLI', 'MktRF', 'SMB',\n",
       "       'HML', 'RMW', 'CMA', 'RF', 'BWSENTcoth', 'BWSENT', 'RV', 'BV', 'RJ',\n",
       "       'CP'],\n",
       "      dtype='object')"
      ]
     },
     "execution_count": 15,
     "metadata": {},
     "output_type": "execute_result"
    }
   ],
   "source": [
    "dfFactor = pd.read_csv(os.path.join(datapath, \"dfFactor.csv\"))\n",
    "dfFactor = dfFactor.set_index(\"Date\")\n",
    "dfFactor.index = pd.to_datetime(dfFactor.index)\n",
    "dfFactor = dfFactor.rename({\"Amihud liquidity\": \"AmihudLiq\",\n",
    "                       \"Mkt-RF\": \"MktRF\",\n",
    "                       \"BWSENT^\": \"BWSENTcoth\"}, axis = 1)\n",
    "dfFactor.columns"
   ]
  },
  {
   "cell_type": "code",
   "execution_count": 16,
   "metadata": {},
   "outputs": [],
   "source": [
    "pcaFactor = pd.read_csv(os.path.join(datapath, \"pcaFactor.csv\"))\n",
    "pcaFactor = pcaFactor.set_index(\"Date\")\n",
    "pcaFactor.index = pd.to_datetime(pcaFactor.index)\n",
    "pcaFactor = pcaFactor.rename({\"Size/BM\": \"SizeBM\",\n",
    "                       \"Prices,Yield,Dividends(PYD)\": \"PYD\",\n",
    "                       \"RiskFactors(RiF)\": \"RiF\"}, axis = 1)"
   ]
  },
  {
   "cell_type": "code",
   "execution_count": 17,
   "metadata": {},
   "outputs": [
    {
     "data": {
      "text/plain": [
       "DatetimeIndex(['1980-01-31', '1980-02-29', '1980-03-31', '1980-04-30',\n",
       "               '1980-05-31', '1980-06-30', '1980-07-31', '1980-08-31',\n",
       "               '1980-09-30', '1980-10-31',\n",
       "               ...\n",
       "               '2009-02-28', '2009-03-31', '2009-04-30', '2009-05-31',\n",
       "               '2009-06-30', '2009-07-31', '2009-08-31', '2009-09-30',\n",
       "               '2009-10-31', '2009-11-30'],\n",
       "              dtype='datetime64[ns]', name='Date', length=359, freq=None)"
      ]
     },
     "execution_count": 17,
     "metadata": {},
     "output_type": "execute_result"
    }
   ],
   "source": [
    "pcaFactor.index"
   ]
  },
  {
   "cell_type": "code",
   "execution_count": 18,
   "metadata": {
    "scrolled": false
   },
   "outputs": [
    {
     "data": {
      "text/plain": [
       "Index(['CLI_allPca', 'tech_class0', 'tech_class1', 'tech_class2',\n",
       "       'tech_class3', 'tech_class4', 'tech_class5', 'tech_class6',\n",
       "       'tech_class7', 'tech_class8', 'tech_class9', 'output_and_income',\n",
       "       'labor_market', 'housing', 'consumption', 'money', 'bond_ex', 'price',\n",
       "       'stock', 'PYD', 'RiF', 'Industries', 'SizeBM'],\n",
       "      dtype='object')"
      ]
     },
     "execution_count": 18,
     "metadata": {},
     "output_type": "execute_result"
    }
   ],
   "source": [
    "pcaFactor.columns"
   ]
  },
  {
   "cell_type": "code",
   "execution_count": 19,
   "metadata": {},
   "outputs": [],
   "source": [
    "Factor = pd.concat([dfFactor, pcaFactor], axis=1)"
   ]
  },
  {
   "cell_type": "code",
   "execution_count": 22,
   "metadata": {},
   "outputs": [],
   "source": [
    "Factor_3M = Factor.resample(\"3M\").last().iloc[:-1]"
   ]
  },
  {
   "cell_type": "code",
   "execution_count": 24,
   "metadata": {},
   "outputs": [
    {
     "data": {
      "text/plain": [
       "DatetimeIndex(['1980-01-31', '1980-04-30', '1980-07-31', '1980-10-31',\n",
       "               '1981-01-31', '1981-04-30', '1981-07-31', '1981-10-31',\n",
       "               '1982-01-31', '1982-04-30',\n",
       "               ...\n",
       "               '2007-07-31', '2007-10-31', '2008-01-31', '2008-04-30',\n",
       "               '2008-07-31', '2008-10-31', '2009-01-31', '2009-04-30',\n",
       "               '2009-07-31', '2009-10-31'],\n",
       "              dtype='datetime64[ns]', name='Date', length=120, freq=None)"
      ]
     },
     "execution_count": 24,
     "metadata": {},
     "output_type": "execute_result"
    }
   ],
   "source": [
    "Factor_3M.index"
   ]
  },
  {
   "cell_type": "code",
   "execution_count": 25,
   "metadata": {},
   "outputs": [],
   "source": [
    "Factor_3M.to_csv(os.path.join(datapath, \"Factor_3M.csv\"))"
   ]
  },
  {
   "cell_type": "code",
   "execution_count": 29,
   "metadata": {},
   "outputs": [],
   "source": [
    "Factor_6M = Factor.resample(\"6M\").last().iloc[:-1]"
   ]
  },
  {
   "cell_type": "code",
   "execution_count": 30,
   "metadata": {},
   "outputs": [],
   "source": [
    "Factor_6M.to_csv(os.path.join(datapath, \"Factor_6M.csv\"))"
   ]
  },
  {
   "cell_type": "code",
   "execution_count": 26,
   "metadata": {},
   "outputs": [],
   "source": [
    "Factor_12M = Factor.resample(\"1Y\").last().iloc[:-1]"
   ]
  },
  {
   "cell_type": "code",
   "execution_count": 28,
   "metadata": {},
   "outputs": [],
   "source": [
    "Factor_12M.to_csv(os.path.join(datapath, \"Factor_12M.csv\"))"
   ]
  },
  {
   "cell_type": "code",
   "execution_count": null,
   "metadata": {},
   "outputs": [],
   "source": []
  },
  {
   "cell_type": "code",
   "execution_count": null,
   "metadata": {},
   "outputs": [],
   "source": []
  },
  {
   "cell_type": "code",
   "execution_count": null,
   "metadata": {},
   "outputs": [],
   "source": []
  },
  {
   "cell_type": "code",
   "execution_count": null,
   "metadata": {},
   "outputs": [],
   "source": []
  },
  {
   "cell_type": "code",
   "execution_count": 3,
   "metadata": {},
   "outputs": [],
   "source": [
    "LogExcessReturn = pd.read_csv(os.path.join(datapath, \"log_excess_return.csv\"))\n",
    "LogExcessReturn = LogExcessReturn.set_index(\"Date\")\n",
    "LogExcessReturn.index = pd.to_datetime(LogExcessReturn.index)\n",
    "LogExcessReturn = LogExcessReturn.loc[begin_date: end_date]"
   ]
  },
  {
   "cell_type": "code",
   "execution_count": 4,
   "metadata": {},
   "outputs": [],
   "source": [
    "LogExcessReturn.resample(\"3M\").last().iloc[:-1].to_csv(os.path.join(datapath, \"LogExcessReturn_3M.csv\"))"
   ]
  },
  {
   "cell_type": "code",
   "execution_count": 5,
   "metadata": {},
   "outputs": [],
   "source": [
    "LogExcessReturn.resample(\"6M\").last().iloc[:-1].to_csv(os.path.join(datapath, \"LogExcessReturn_6M.csv\"))"
   ]
  },
  {
   "cell_type": "code",
   "execution_count": 6,
   "metadata": {},
   "outputs": [],
   "source": [
    "LogExcessReturn.resample(\"1Y\").last().iloc[:-1].to_csv(os.path.join(datapath, \"LogExcessReturn_12M.csv\"))"
   ]
  },
  {
   "cell_type": "code",
   "execution_count": null,
   "metadata": {},
   "outputs": [],
   "source": []
  }
 ],
 "metadata": {
  "kernelspec": {
   "display_name": "Python 3",
   "language": "python",
   "name": "python3"
  },
  "language_info": {
   "codemirror_mode": {
    "name": "ipython",
    "version": 3
   },
   "file_extension": ".py",
   "mimetype": "text/x-python",
   "name": "python",
   "nbconvert_exporter": "python",
   "pygments_lexer": "ipython3",
   "version": "3.6.1"
  }
 },
 "nbformat": 4,
 "nbformat_minor": 2
}
